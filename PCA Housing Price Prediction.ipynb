{
 "cells": [
  {
   "cell_type": "markdown",
   "metadata": {},
   "source": [
    "# Dimensionality Reduction for Housing Data: A PCA-Driven Regression Pipeline\n",
    "**Author: May Cooper**"
   ]
  },
  {
   "cell_type": "markdown",
   "metadata": {},
   "source": [
    "## Project Overview\n",
    "This project utilizes Principal Component Analysis (PCA) to reduce dimensionality in a housing dataset in preparation for linear regression modeling. By transforming correlated input features into a smaller set of uncorrelated principal components, we aim to improve model efficiency and interpretability.\n",
    "\n",
    "## Research Question\n",
    "How many principal components are required to retain at least 90% of the variance in the housing dataset and support accurate prediction of property tax values?\n",
    "\n",
    "## Objective\n",
    "The objective of this analysis is to determine a reduced set of features using PCA that captures the essential variance in the data. These principal components will be used to build a linear regression model for predicting continuous housing-related outcomes, such as assessed value or tax amount, while minimizing multicollinearity and noise in the input variables."
   ]
  },
  {
   "cell_type": "markdown",
   "metadata": {},
   "source": [
    "### Continuous Variables\n",
    "The following are the continuous variables:\n",
    "- `SquareFootage`\n",
    "- `NumBedrooms`\n",
    "- `NumBathrooms`\n",
    "- `BackyardSpace`\n",
    "- `CrimeRate`\n",
    "- `SchoolRating`\n",
    "- `DistanceToCityCenter`\n",
    "\n",
    "Independent Variable: \n",
    "- `Price`\n",
    "\n",
    "These variables are numeric and align with the research question, and do not include any categorical variables."
   ]
  },
  {
   "cell_type": "code",
   "execution_count": 23,
   "metadata": {},
   "outputs": [],
   "source": [
    "# Importing necessary libraries\n",
    "\n",
    "import pandas as pd\n",
    "import numpy as np\n",
    "from sklearn.model_selection import train_test_split\n",
    "from sklearn.decomposition import PCA\n",
    "from sklearn.preprocessing import StandardScaler\n",
    "from sklearn.metrics import mean_squared_error\n",
    "from statsmodels.api import OLS, add_constant\n",
    "import matplotlib.pyplot as plt\n",
    "import seaborn as sns\n",
    "from scipy.stats import shapiro"
   ]
  },
  {
   "cell_type": "code",
   "execution_count": 24,
   "metadata": {},
   "outputs": [
    {
     "name": "stdout",
     "output_type": "stream",
     "text": [
      "Cleaned dataset saved as 'cleaned_dataset.csv'.\n"
     ]
    }
   ],
   "source": [
    "#  Load and Clean Data\n",
    "\n",
    "file_path = 'D600 Task 3 Dataset 1 Housing Information.csv'\n",
    "df = pd.read_csv(file_path)\n",
    "\n",
    "# Keeping dependent variable (Price) and continuous independent variables\n",
    "dependent_var = 'Price'\n",
    "continuous_vars = ['SquareFootage', 'NumBathrooms', 'NumBedrooms',\n",
    "                   'BackyardSpace', 'CrimeRate', 'SchoolRating',\n",
    "                   'DistanceToCityCenter']\n",
    "df = df[[dependent_var] + continuous_vars]\n",
    "\n",
    "# Drop missing values if there is any\n",
    "df.dropna(inplace=True)\n",
    "\n",
    "# Save the cleaned dataset (before standardization)\n",
    "df.to_csv(\"cleaned_dataset.csv\", index=False)\n",
    "print(\"Cleaned dataset saved as 'cleaned_dataset.csv'.\")"
   ]
  },
  {
   "cell_type": "code",
   "execution_count": null,
   "metadata": {},
   "outputs": [
    {
     "name": "stdout",
     "output_type": "stream",
     "text": [
      "Standardized dataset saved as 'standardized_data.csv'.\n"
     ]
    }
   ],
   "source": [
    "# Standardization of Variables\n",
    "\n",
    "from sklearn.preprocessing import StandardScaler\n",
    "\n",
    "X = df[continuous_vars]\n",
    "y = df[dependent_var]\n",
    "\n",
    "scaler = StandardScaler()\n",
    "X_scaled = scaler.fit_transform(X)\n",
    "\n",
    "# Create a DataFrame for standardized data\n",
    "standardized_df = pd.DataFrame(X_scaled, columns=continuous_vars)\n",
    "standardized_df[dependent_var] = y.values\n",
    "\n",
    "# Save the standardized dataset\n",
    "standardized_df.to_csv(\"standardized_data.csv\", index=False)\n",
    "print(\"Standardized dataset saved as 'standardized_data.csv'.\")"
   ]
  },
  {
   "cell_type": "code",
   "execution_count": null,
   "metadata": {},
   "outputs": [
    {
     "name": "stdout",
     "output_type": "stream",
     "text": [
      "Saved descriptive stats to csv file for further analysis.\n",
      "Descriptive Statistics (including Mode):\n",
      "              Price  SquareFootage  NumBathrooms  NumBedrooms  BackyardSpace  \\\n",
      "count  7.000000e+03    7000.000000   7000.000000  7000.000000    7000.000000   \n",
      "mean   3.072820e+05    1048.947459      2.131397     3.008571     511.507029   \n",
      "std    1.501734e+05     426.010482      0.952561     1.021940     279.926549   \n",
      "min    8.500000e+04     550.000000      1.000000     1.000000       0.390000   \n",
      "25%    1.921075e+05     660.815000      1.290539     2.000000     300.995000   \n",
      "50%    2.793230e+05     996.320000      1.997774     3.000000     495.965000   \n",
      "75%    3.918781e+05    1342.292500      2.763997     4.000000     704.012500   \n",
      "max    1.046676e+06    2874.700000      5.807239     7.000000    1631.360000   \n",
      "Mode   8.500000e+04     550.000000      1.000000     3.000000     300.080000   \n",
      "\n",
      "         CrimeRate  SchoolRating  DistanceToCityCenter  \n",
      "count  7000.000000   7000.000000           7000.000000  \n",
      "mean     31.226194      6.942923             17.475337  \n",
      "std      18.025327      1.888148             12.024985  \n",
      "min       0.030000      0.220000              0.000000  \n",
      "25%      17.390000      5.650000              7.827500  \n",
      "50%      30.385000      7.010000             15.625000  \n",
      "75%      43.670000      8.360000             25.222500  \n",
      "max      99.730000     10.000000             65.200000  \n",
      "Mode     34.010000     10.000000              8.290000  \n"
     ]
    }
   ],
   "source": [
    "# Descriptive Statistics\n",
    "\n",
    "# Calculate stats other than mode\n",
    "desc_stats = df[[dependent_var] + continuous_vars].describe()\n",
    "\n",
    "# Calculate mode\n",
    "modes = df[[dependent_var] + continuous_vars].mode().iloc[0]  # Extract the first mode if multiple exist\n",
    "\n",
    "# Create a DataFrame to append mode\n",
    "mode_df = pd.DataFrame(modes).T\n",
    "mode_df.index = ['Mode']\n",
    "\n",
    "# Using concat to combine descriptive stats with mode\n",
    "desc_stats_with_mode = pd.concat([desc_stats, mode_df])\n",
    "\n",
    "# Save the combined stats\n",
    "desc_stats_with_mode.to_csv(\"descriptive_statistics_with_mode.csv\", index=True)\n",
    "print(\"Saved descriptive stats to csv file for further analysis.\")\n",
    "\n",
    "# Print\n",
    "print(\"Descriptive Statistics (including Mode):\")\n",
    "print(desc_stats_with_mode)"
   ]
  },
  {
   "cell_type": "code",
   "execution_count": 27,
   "metadata": {},
   "outputs": [
    {
     "name": "stdout",
     "output_type": "stream",
     "text": [
      "Matrix of All Principal Components:\n",
      "   SquareFootage  NumBathrooms  NumBedrooms  BackyardSpace  CrimeRate  \\\n",
      "0       0.404460      0.368632     0.415174       0.163634  -0.233355   \n",
      "1       0.292491      0.328694    -0.465247       0.679390   0.226880   \n",
      "2       0.186081      0.243094     0.156313      -0.374862   0.859312   \n",
      "3      -0.220183     -0.138033     0.519589       0.562704   0.260955   \n",
      "4       0.082830      0.563375    -0.225451      -0.216813  -0.197826   \n",
      "5       0.756470     -0.565400    -0.103463      -0.040307   0.009802   \n",
      "6       0.297735      0.202124     0.505209      -0.076566  -0.219829   \n",
      "\n",
      "   SchoolRating  DistanceToCityCenter  \n",
      "0      0.569884             -0.349508  \n",
      "1     -0.253039             -0.113489  \n",
      "2      0.028099             -0.046006  \n",
      "3      0.126138              0.511711  \n",
      "4      0.161433              0.716042  \n",
      "5      0.099418              0.292858  \n",
      "6     -0.747368              0.050176  \n"
     ]
    }
   ],
   "source": [
    "# E1: Determine Matrix of All Principal Components\n",
    "\n",
    "# Perform PCA\n",
    "pca = PCA()\n",
    "X_pca = pca.fit_transform(X_scaled)\n",
    "\n",
    "# Save matrix of all principal components\n",
    "pca_components = pd.DataFrame(pca.components_, columns=continuous_vars)\n",
    "pca_components.to_csv(\"pca_components.csv\", index=False)\n",
    "\n",
    "print(\"Matrix of All Principal Components:\")\n",
    "print(pca_components)"
   ]
  },
  {
   "cell_type": "code",
   "execution_count": 37,
   "metadata": {},
   "outputs": [
    {
     "data": {
      "image/png": "[encoded data removed]",
      "text/plain": [
       "<Figure size 1000x600 with 1 Axes>"
      ]
     },
     "metadata": {},
     "output_type": "display_data"
    },
    {
     "name": "stdout",
     "output_type": "stream",
     "text": [
      "Retained 6 components based on the elbow rule from the scree plot.\n"
     ]
    }
   ],
   "source": [
    "# E2: Determine Number of Components to Retain\n",
    "\n",
    "# Calculate cumulative variance and determine the number of components for 90% explained variance\n",
    "cumulative_variance = np.cumsum(pca.explained_variance_ratio_)\n",
    "n_components = np.argmax(cumulative_variance >= 0.90) + 1\n",
    "\n",
    "# Scree plot\n",
    "plt.figure(figsize=(10, 6))\n",
    "plt.plot(range(1, len(cumulative_variance) + 1), cumulative_variance, 'o--', label='Cumulative Variance')\n",
    "plt.axhline(y=0.90, color='r', linestyle='-', label='90% Variance Threshold')\n",
    "plt.axvline(x=n_components, color='g', linestyle='--', label=f'Elbow Point at PC{n_components}')\n",
    "plt.title('Scree Plot')\n",
    "plt.xlabel('Principal Components')\n",
    "plt.ylabel('Cumulative Explained Variance')\n",
    "plt.legend()\n",
    "plt.grid()\n",
    "plt.savefig(\"scree_plot.png\")\n",
    "plt.show()\n",
    "\n",
    "# Justification for retained components\n",
    "print(f\"Retained {n_components} components based on the elbow rule from the scree plot.\")"
   ]
  },
  {
   "cell_type": "code",
   "execution_count": null,
   "metadata": {},
   "outputs": [
    {
     "name": "stdout",
     "output_type": "stream",
     "text": [
      "Retained Principal Components Variances: [0.26251363 0.14632479 0.14019658 0.13313558 0.12340636 0.11994249]\n"
     ]
    }
   ],
   "source": [
    "# Variance of each retained principal component\n",
    "explained_variance_ratio = pca.explained_variance_ratio_\n",
    "retained_variances = explained_variance_ratio[:n_components]\n",
    "print(\"Retained Principal Components Variances:\", retained_variances)"
   ]
  },
  {
   "cell_type": "code",
   "execution_count": null,
   "metadata": {},
   "outputs": [
    {
     "name": "stdout",
     "output_type": "stream",
     "text": [
      "\n",
      "PCA Results Summary:\n",
      "PC1: Variance Explained = 0.2625\n",
      "PC2: Variance Explained = 0.1463\n",
      "PC3: Variance Explained = 0.1402\n",
      "PC4: Variance Explained = 0.1331\n",
      "PC5: Variance Explained = 0.1234\n",
      "PC6: Variance Explained = 0.1199\n",
      "Total Variance Explained by 6 Components: 0.9255\n",
      "Number of Principal Components Retained: 6\n"
     ]
    }
   ],
   "source": [
    "# Summarize PCA Results\n",
    "summary = [\n",
    "    f\"PC{i}: Variance Explained = {var:.4f}\"\n",
    "    for i, var in enumerate(retained_variances, start=1)\n",
    "]\n",
    "summary.append(f\"Total Variance Explained by {n_components} Components: {cumulative_variance[n_components-1]:.4f}\")\n",
    "summary.append(f\"Number of Principal Components Retained: {n_components}\")\n",
    "\n",
    "print(\"\\nPCA Results Summary:\")\n",
    "print(\"\\n\".join(summary))"
   ]
  },
  {
   "cell_type": "code",
   "execution_count": null,
   "metadata": {},
   "outputs": [],
   "source": [
    "# Split dataset into training and testing sets\n",
    "\n",
    "from sklearn.model_selection import train_test_split\n",
    "from statsmodels.api import OLS, add_constant\n",
    "from sklearn.metrics import mean_squared_error\n",
    "\n",
    "X_pca_reduced = X_pca[:, :n_components]\n",
    "\n",
    "X_train, X_test, y_train, y_test = train_test_split(X_pca_reduced, y, test_size=0.2, random_state=42)\n",
    "\n",
    "pd.DataFrame(X_train).to_csv(\"train_data.csv\", index=False)\n",
    "pd.DataFrame(X_test).to_csv(\"test_data.csv\", index=False)\n",
    "y_train.to_csv(\"train_labels.csv\", index=False)\n",
    "y_test.to_csv(\"test_labels.csv\", index=False)"
   ]
  },
  {
   "cell_type": "code",
   "execution_count": null,
   "metadata": {},
   "outputs": [
    {
     "name": "stdout",
     "output_type": "stream",
     "text": [
      "\n",
      "Optimized Model Summary:\n",
      "                            OLS Regression Results                            \n",
      "==============================================================================\n",
      "Dep. Variable:                  Price   R-squared:                       0.521\n",
      "Model:                            OLS   Adj. R-squared:                  0.521\n",
      "Method:                 Least Squares   F-statistic:                     1015.\n",
      "Date:                Tue, 17 Dec 2024   Prob (F-statistic):               0.00\n",
      "Time:                        07:56:48   Log-Likelihood:                -72675.\n",
      "No. Observations:                5600   AIC:                         1.454e+05\n",
      "Df Residuals:                    5593   BIC:                         1.454e+05\n",
      "Df Model:                           6                                         \n",
      "Covariance Type:            nonrobust                                         \n",
      "==============================================================================\n",
      "                 coef    std err          t      P>|t|      [0.025      0.975]\n",
      "------------------------------------------------------------------------------\n",
      "const       3.083e+05   1399.895    220.216      0.000    3.06e+05    3.11e+05\n",
      "x1          7.401e+04   1027.622     72.018      0.000     7.2e+04     7.6e+04\n",
      "x2          7744.7240   1388.079      5.579      0.000    5023.550    1.05e+04\n",
      "x3          3.478e+04   1409.660     24.674      0.000     3.2e+04    3.75e+04\n",
      "x4          3846.4452   1449.322      2.654      0.008    1005.212    6687.679\n",
      "x5          1.947e+04   1494.244     13.029      0.000    1.65e+04    2.24e+04\n",
      "x6          1.349e+04   1528.361      8.823      0.000    1.05e+04    1.65e+04\n",
      "==============================================================================\n",
      "Omnibus:                      477.991   Durbin-Watson:                   1.963\n",
      "Prob(Omnibus):                  0.000   Jarque-Bera (JB):              629.087\n",
      "Skew:                           0.733   Prob(JB):                    2.49e-137\n",
      "Kurtosis:                       3.738   Cond. No.                         1.49\n",
      "==============================================================================\n",
      "\n",
      "Notes:\n",
      "[1] Standard Errors assume that the covariance matrix of the errors is correctly specified.\n",
      "\n",
      "Model Parameters:\n",
      "Adjusted R²: 0.5208\n",
      "R²: 0.5213\n",
      "F-statistic: 1015.1282\n",
      "Probability F-statistic: 0.0000\n",
      "Coefficient const: 308279.2106, p-value: 0.0000\n",
      "Coefficient x1: 74007.7691, p-value: 0.0000\n",
      "Coefficient x2: 7744.7240, p-value: 0.0000\n",
      "Coefficient x3: 34781.7694, p-value: 0.0000\n",
      "Coefficient x4: 3846.4452, p-value: 0.0080\n",
      "Coefficient x5: 19469.0679, p-value: 0.0000\n",
      "Coefficient x6: 13485.4676, p-value: 0.0000\n"
     ]
    }
   ],
   "source": [
    "# Create and perform regression model with backward elimination\n",
    "\n",
    "def stepwise_ols(X, y, significance_level=0.05):\n",
    "    X_with_const = add_constant(X)\n",
    "    selected_vars = list(range(X.shape[1]))\n",
    "    while True:\n",
    "        current_model = OLS(y, X_with_const[:, [0] + [v + 1 for v in selected_vars]]).fit()\n",
    "        p_values = current_model.pvalues[1:]  # exclude intercept\n",
    "        max_p_value = p_values.max()\n",
    "        if max_p_value > significance_level:\n",
    "            variable_to_remove = p_values.argmax()\n",
    "            selected_vars.pop(variable_to_remove)\n",
    "        else:\n",
    "            break\n",
    "    return current_model, selected_vars\n",
    "\n",
    "# Fit the model\n",
    "optimized_model, retained_vars = stepwise_ols(X_train, y_train, significance_level=0.05)\n",
    "\n",
    "# Output model summary\n",
    "print(\"\\nOptimized Model Summary:\")\n",
    "print(optimized_model.summary())\n",
    "\n",
    "# Extract model metrics\n",
    "adjusted_r2 = optimized_model.rsquared_adj\n",
    "r2_score = optimized_model.rsquared\n",
    "f_statistic = optimized_model.fvalue\n",
    "f_statistic_pvalue = optimized_model.f_pvalue\n",
    "model_coefficients = optimized_model.params\n",
    "model_p_values = optimized_model.pvalues\n",
    "\n",
    "# Print model parameters\n",
    "print(\"\\nModel Parameters:\")\n",
    "print(f\"Adjusted R²: {adjusted_r2:.4f}\")\n",
    "print(f\"R²: {r2_score:.4f}\")\n",
    "print(f\"F-statistic: {f_statistic:.4f}\")\n",
    "print(f\"Probability F-statistic: {f_statistic_pvalue:.4f}\")\n",
    "for name, coef, p_value in zip(optimized_model.model.exog_names, model_coefficients, model_p_values):\n",
    "    print(f\"Coefficient {name}: {coef:.4f}, p-value: {p_value:.4f}\")"
   ]
  },
  {
   "cell_type": "code",
   "execution_count": null,
   "metadata": {},
   "outputs": [
    {
     "name": "stdout",
     "output_type": "stream",
     "text": [
      "\n",
      "MSE on Training Set: 10958658277.13\n"
     ]
    }
   ],
   "source": [
    "# MSE on training set\n",
    "y_train_pred = optimized_model.predict(add_constant(X_train[:, retained_vars]))\n",
    "mse_train = mean_squared_error(y_train, y_train_pred)\n",
    "print(f\"\\nMSE on Training Set: {mse_train:.2f}\")"
   ]
  },
  {
   "cell_type": "code",
   "execution_count": null,
   "metadata": {},
   "outputs": [
    {
     "name": "stdout",
     "output_type": "stream",
     "text": [
      "MSE on Test Set: 10570786098.53\n"
     ]
    }
   ],
   "source": [
    "# MSE on test set\n",
    "y_test_pred = optimized_model.predict(add_constant(X_test[:, retained_vars]))\n",
    "mse_test = mean_squared_error(y_test, y_test_pred)\n",
    "print(f\"MSE on Test Set: {mse_test:.2f}\")"
   ]
  },
  {
   "cell_type": "code",
   "execution_count": null,
   "metadata": {},
   "outputs": [],
   "source": []
  }
 ],
 "metadata": {
  "kernelspec": {
   "display_name": "Python 3",
   "language": "python",
   "name": "python3"
  },
  "language_info": {
   "codemirror_mode": {
    "name": "ipython",
    "version": 3
   },
   "file_extension": ".py",
   "mimetype": "text/x-python",
   "name": "python",
   "nbconvert_exporter": "python",
   "pygments_lexer": "ipython3",
   "version": "3.10.9"
  }
 },
 "nbformat": 4,
 "nbformat_minor": 2
}
